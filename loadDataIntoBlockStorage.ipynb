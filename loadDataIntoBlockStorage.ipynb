{
  "cells": [
    {
      "cell_type": "code",
      "source": [
        "%matplotlib inline\r\n",
        "import numpy as np\r\n",
        "import matplotlib.pyplot as plt\r\n",
        " \r\n",
        "import azureml.core\r\n",
        "# Display the core SDK version number\r\n",
        "print(\"Azure ML SDK Version: \", azureml.core.VERSION)\r\n",
        "%%writefile score.py\r\n",
        "import json\r\n",
        "import numpy as np\r\n",
        "import os\r\n",
        "import pickle\r\n",
        "import joblib\r\n",
        "def init():\r\n",
        "    global model\r\n",
        "    # AZUREML_MODEL_DIR is an environment variable created during deployment.\r\n",
        "    # It is the path to the model folder (./azureml-models/$MODEL_NAME/$VERSION)\r\n",
        "    # For multiple models, it points to the folder containing all deployed models (./azureml-models)\r\n",
        "    model_path = os.path.join(os.getenv('dataset'), 'data_file.csv')\r\n",
        "    model = joblib.load(model_path)\r\n",
        "\r\n",
        "def run(raw_data):\r\n",
        "    data = np.array(json.loads(raw_data)['data'])\r\n",
        "    return data\r\n",
        "\r\n",
        "\r\n",
        "\r\n",
        "\r\n",
        "\r\n"
      ],
      "outputs": [
        {
          "output_type": "stream",
          "name": "stdout",
          "text": [
            "Azure ML SDK Version:  1.22.0\n"
          ]
        },
        {
          "output_type": "stream",
          "name": "stderr",
          "text": [
            "UsageError: Line magic function `%%writefile` not found.\n"
          ]
        }
      ],
      "execution_count": 1,
      "metadata": {
        "gather": {
          "logged": 1614892075671
        }
      }
    }
  ],
  "metadata": {
    "kernelspec": {
      "name": "python3-azureml",
      "language": "python",
      "display_name": "Python 3.6 - AzureML"
    },
    "language_info": {
      "name": "python",
      "version": "3.6.9",
      "mimetype": "text/x-python",
      "codemirror_mode": {
        "name": "ipython",
        "version": 3
      },
      "pygments_lexer": "ipython3",
      "nbconvert_exporter": "python",
      "file_extension": ".py"
    },
    "nteract": {
      "version": "nteract-front-end@1.0.0"
    },
    "kernel_info": {
      "name": "python3-azureml"
    },
    "microsoft": {
      "host": {
        "AzureML": {
          "notebookHasBeenCompleted": true
        }
      }
    }
  },
  "nbformat": 4,
  "nbformat_minor": 2
}