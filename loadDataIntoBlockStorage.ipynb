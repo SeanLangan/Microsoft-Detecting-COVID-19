%matplotlib inline
import numpy as np
import matplotlib.pyplot as plt
 
import azureml.core
# Display the core SDK version number
print("Azure ML SDK Version: ", azureml.core.VERSION)
%%writefile score.py
import json
import numpy as np
import os
import pickle
import joblib
def init():
    global model
    # AZUREML_MODEL_DIR is an environment variable created during deployment.
    # It is the path to the model folder (./azureml-models/$MODEL_NAME/$VERSION)
    # For multiple models, it points to the folder containing all deployed models (./azureml-models)
    model_path = os.path.join(os.getenv('dataset'), 'data_file.csv')
    model = joblib.load(model_path)

def run(raw_data):
    data = np.array(json.loads(raw_data)['data'])
    return data





