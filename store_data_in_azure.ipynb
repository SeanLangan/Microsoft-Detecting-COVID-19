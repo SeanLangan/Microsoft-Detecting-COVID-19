{
  "cells": [
    {
      "cell_type": "markdown",
      "source": [
        "### Import libraries"
      ],
      "metadata": {}
    },
    {
      "cell_type": "code",
      "source": [
        "import sys\n",
        "!{sys.executable} -m pip install pydicom"
      ],
      "outputs": [
        {
          "output_type": "stream",
          "name": "stdout",
          "text": [
            "Collecting pydicom\n",
            "  Downloading pydicom-2.1.2-py3-none-any.whl (1.9 MB)\n",
            "\u001b[K     |████████████████████████████████| 1.9 MB 18.9 MB/s eta 0:00:01\n",
            "\u001b[?25hInstalling collected packages: pydicom\n",
            "Successfully installed pydicom-2.1.2\n"
          ]
        }
      ],
      "execution_count": 2,
      "metadata": {
        "scrolled": true,
        "gather": {
          "logged": 1617225669832
        }
      }
    },
    {
      "cell_type": "code",
      "source": [
        "!{sys.executable} -m pip install python-dotenv"
      ],
      "outputs": [],
      "execution_count": null,
      "metadata": {
        "collapsed": true,
        "jupyter": {
          "source_hidden": false,
          "outputs_hidden": false
        },
        "nteract": {
          "transient": {
            "deleting": false
          }
        }
      }
    },
    {
      "cell_type": "code",
      "source": [
        "!{sys.executable} -m pip install opencv-python"
      ],
      "outputs": [
        {
          "output_type": "stream",
          "name": "stdout",
          "text": [
            "Requirement already satisfied: opencv-python in /anaconda/envs/azureml_py36/lib/python3.6/site-packages (4.5.1.48)\r\n",
            "Requirement already satisfied: numpy>=1.13.3 in /anaconda/envs/azureml_py36/lib/python3.6/site-packages (from opencv-python) (1.18.5)\r\n"
          ]
        }
      ],
      "execution_count": 3,
      "metadata": {}
    },
    {
      "cell_type": "code",
      "source": [
        "import pandas as pd\r\n",
        "import os\r\n",
        "import shutil\r\n",
        "from glob import glob\r\n",
        "import pydicom as dicom\r\n",
        "import cv2\r\n",
        "import uuid\r\n",
        "from PIL import Image\r\n",
        "from azure.storage.blob import BlobServiceClient, BlobClient, ContainerClient, ContentSettings, __version__"
      ],
      "outputs": [],
      "execution_count": 4,
      "metadata": {
        "collapsed": true,
        "jupyter": {
          "source_hidden": false,
          "outputs_hidden": false
        },
        "nteract": {
          "transient": {
            "deleting": false
          }
        },
        "gather": {
          "logged": 1617225679990
        }
      }
    },
    {
      "cell_type": "code",
      "source": [
        "cohen_dir = 'covid-chestxray-dataset'\n",
        "cohen_csv_path = f'./{cohen_dir}/metadata.csv'\n",
        "cohen_img_path = f'./{cohen_dir}/images'"
      ],
      "outputs": [],
      "execution_count": null,
      "metadata": {
        "gather": {
          "logged": 1617101480475
        }
      }
    },
    {
      "cell_type": "code",
      "source": [
        "fig1_dir = 'Figure1-COVID-chestxray-dataset'\n",
        "fig1_csv_path = f'./{fig1_dir}/metadata.csv'\n",
        "fig1_img_path = f'./{fig1_dir}/images'"
      ],
      "outputs": [],
      "execution_count": 5,
      "metadata": {
        "gather": {
          "logged": 1617225693149
        }
      }
    },
    {
      "cell_type": "code",
      "source": [
        "actmed_dir = 'Actualmed-COVID-chestxray-dataset'\n",
        "actmed_csv_path = f'./{actmed_dir}/metadata.csv'\n",
        "actmed_img_path = f'./{actmed_dir}/images'"
      ],
      "outputs": [],
      "execution_count": 9,
      "metadata": {
        "gather": {
          "logged": 1617227171653
        }
      }
    },
    {
      "cell_type": "code",
      "source": [
        "sirm_dir = 'COVID-19-Radiography-Database'\n",
        "sirm_cov_csv_path = f'./{sirm_dir}/COVID.metadata.xlsx'\n",
        "sirm_cov_img_path = f'./{sirm_dir}/COVID'"
      ],
      "outputs": [],
      "execution_count": null,
      "metadata": {
        "gather": {
          "logged": 1616789787417
        }
      }
    },
    {
      "cell_type": "code",
      "source": [
        "rsna_csv1_path = './stage_2_detailed_class_info.csv'\n",
        "rsna_csv2_path = './stage_2_train_labels.csv'\n",
        "rsna_img_path = './stage_2_train_images'"
      ],
      "outputs": [],
      "execution_count": null,
      "metadata": {
        "gather": {
          "logged": 1616789788608
        }
      }
    },
    {
      "cell_type": "markdown",
      "source": [
        "### Initialize directories, files and metrics variables"
      ],
      "metadata": {}
    },
    {
      "cell_type": "code",
      "source": [
        "dataset_dir = 'dataset'\n",
        "\n",
        "images_dir = f'{dataset_dir}/images'\n",
        "data_file_name = 'data_file.csv'\n",
        "\n",
        "deletions = 0\n",
        "\n",
        "if not os.path.exists(dataset_dir):\n",
        "    os.mkdir(dataset_dir)\n",
        "    print('Successfully created \\'dataset\\' directory created.')\n",
        "\n",
        "if not os.path.exists(images_dir):\n",
        "    os.mkdir(images_dir)\n",
        "    print('Successfully created \\'images\\' directory created.')\n",
        "else:\n",
        "    files = glob(f'{images_dir}/*')\n",
        "    for f in files:\n",
        "        try:\n",
        "            os.remove(f)\n",
        "            deletions += 1\n",
        "        except OSError as e:\n",
        "            print('Error: %s : %s' % (f, e.strerror))\n",
        "    print(f'Successfully deleted {deletions} images from the \\'images\\' directory')\n",
        "\n",
        "data_file = open(f'./{dataset_dir}/{data_file_name}', 'w')\n",
        "data_file.write('filename,diagnosis\\n')\n",
        "data_file.close()\n",
        "print(f'Successfully deleted {deletions} entries from \\'{data_file_name}\\'')\n",
        "\n",
        "covid_positives = 0\n",
        "covid_negatives = 0\n",
        "xray_index = 0"
      ],
      "outputs": [
        {
          "output_type": "stream",
          "name": "stdout",
          "text": [
            "Successfully deleted 195 images from the 'images' directory\n",
            "Successfully deleted 195 entries from 'data_file.csv'\n"
          ]
        }
      ],
      "execution_count": 12,
      "metadata": {
        "gather": {
          "logged": 1617227541967
        }
      }
    },
    {
      "cell_type": "markdown",
      "source": [
        "### Extract data from 'covid-chestray-dataset'"
      ],
      "metadata": {}
    },
    {
      "cell_type": "code",
      "source": [
        "cohen_csv = pd.read_csv(cohen_csv_path, nrows=None)\n",
        "print(cohen_csv.shape)\n",
        "\n",
        "data_file = open(f'./{dataset_dir}/{data_file_name}', 'a')\n",
        "\n",
        "for _, row in cohen_csv.iterrows():\n",
        "    if row['folder'] == 'volumes' or row['view'] != 'PA':\n",
        "        continue\n",
        "    \n",
        "    image = row['filename']\n",
        "    \n",
        "    src_path = f'{cohen_img_path}/{image}'\n",
        "    dst_path = f'./{images_dir}/{image}'\n",
        "    \n",
        "    image_type = image.split('.')[-1]\n",
        "    new_image_name = f'x-ray-{xray_index}.{image_type}'\n",
        "    \n",
        "    shutil.copy(src_path, dst_path)\n",
        "    os.rename(dst_path, f'./{images_dir}/{new_image_name}')\n",
        "    \n",
        "    finding = row['finding'].split('/')[-1]\n",
        "    \n",
        "    if finding == 'COVID-19':\n",
        "        if row['RT_PCR_positive'] != 'Y':\n",
        "            continue\n",
        "        sample = new_image_name + ',' + 'positive' + '\\n'\n",
        "        covid_positives += 1\n",
        "    else:\n",
        "        sample = new_image_name + ',' + 'negative' + '\\n'\n",
        "        covid_negatives += 1\n",
        "        \n",
        "    data_file.write(sample)\n",
        "    xray_index += 1\n",
        "    \n",
        "    print(new_image_name, ': OK')\n",
        "\n",
        "print('Covid positives:', covid_positives)\n",
        "print('Covid negatives:', covid_negatives)\n",
        "\n",
        "data_file.close()"
      ],
      "outputs": [],
      "execution_count": null,
      "metadata": {
        "gather": {
          "logged": 1617101864325
        }
      }
    },
    {
      "cell_type": "markdown",
      "source": [
        "### Extract data from 'Figure1-COVID-chestxray-dataset'"
      ],
      "metadata": {}
    },
    {
      "cell_type": "code",
      "source": [
        "fig1_csv = pd.read_csv(fig1_csv_path, encoding='ISO-8859-1', nrows=None)\n",
        "print(fig1_csv.shape)\n",
        "\n",
        "fig1_csv['finding'].fillna('NaN', inplace=True)\n",
        "\n",
        "data_file = open(f'./{dataset_dir}/{data_file_name}', 'a')\n",
        "\n",
        "for _, row in fig1_csv.iterrows():\n",
        "    if row['finding'] == 'NaN':\n",
        "        continue\n",
        "    \n",
        "    patient_id = row['patientid']\n",
        "    image = f'{patient_id}.jpg'\n",
        "    \n",
        "    src_path = f'{fig1_img_path}/{image}'\n",
        "    if not os.path.exists(src_path):\n",
        "        image = f'{patient_id}.png'\n",
        "        src_path = f'{fig1_img_path}/{image}'\n",
        "    dst_path = f'{images_dir}/{image}'\n",
        "    \n",
        "    image_type = image.split('.')[-1]\n",
        "    new_image_name = f'x-ray-{xray_index}.{image_type}'\n",
        "    \n",
        "    shutil.copy(src_path, dst_path)\n",
        "    os.rename(dst_path, f'./{images_dir}/{new_image_name}')\n",
        "    \n",
        "    finding = row['finding']\n",
        "    \n",
        "    if finding == 'COVID-19':\n",
        "        sample = new_image_name + ',' + 'positive' + '\\n'\n",
        "        covid_positives += 1\n",
        "    else:\n",
        "        sample = new_image_name + ',' + 'negative' + '\\n'\n",
        "        covid_negatives += 1\n",
        "    \n",
        "    data_file.write(sample)\n",
        "    xray_index += 1\n",
        "    \n",
        "    print(new_image_name, ': OK')\n",
        "\n",
        "print('Covid positives:', covid_positives)\n",
        "print('Covid negatives:', covid_negatives)\n",
        "\n",
        "data_file.close()"
      ],
      "outputs": [
        {
          "output_type": "stream",
          "name": "stdout",
          "text": [
            "(55, 12)\n",
            "x-ray-0.jpg : OK\n",
            "x-ray-1.jpg : OK\n",
            "x-ray-2.jpg : OK\n",
            "x-ray-3.jpg : OK\n",
            "x-ray-4.jpg : OK\n",
            "x-ray-5.jpg : OK\n",
            "x-ray-6.jpg : OK\n",
            "x-ray-7.png : OK\n",
            "x-ray-8.png : OK\n",
            "x-ray-9.jpg : OK\n",
            "x-ray-10.jpg : OK\n",
            "x-ray-11.jpg : OK\n",
            "x-ray-12.jpg : OK\n",
            "x-ray-13.jpg : OK\n",
            "x-ray-14.jpg : OK\n",
            "x-ray-15.jpg : OK\n",
            "x-ray-16.jpg : OK\n",
            "x-ray-17.jpg : OK\n",
            "x-ray-18.jpg : OK\n",
            "x-ray-19.jpg : OK\n",
            "x-ray-20.jpg : OK\n",
            "x-ray-21.jpg : OK\n",
            "x-ray-22.jpg : OK\n",
            "x-ray-23.jpg : OK\n",
            "x-ray-24.jpg : OK\n",
            "x-ray-25.jpg : OK\n",
            "x-ray-26.jpg : OK\n",
            "x-ray-27.jpg : OK\n",
            "x-ray-28.jpg : OK\n",
            "x-ray-29.jpg : OK\n",
            "x-ray-30.jpg : OK\n",
            "x-ray-31.jpg : OK\n",
            "x-ray-32.jpg : OK\n",
            "x-ray-33.jpg : OK\n",
            "x-ray-34.jpg : OK\n",
            "x-ray-35.jpg : OK\n",
            "x-ray-36.jpg : OK\n",
            "x-ray-37.png : OK\n",
            "x-ray-38.png : OK\n",
            "x-ray-39.png : OK\n",
            "Covid positives: 35\n",
            "Covid negatives: 5\n"
          ]
        }
      ],
      "execution_count": 7,
      "metadata": {
        "gather": {
          "logged": 1617226208532
        }
      }
    },
    {
      "cell_type": "markdown",
      "source": [
        "### Extract data from 'Actualmed-COVID-chestxray-dataset'"
      ],
      "metadata": {}
    },
    {
      "cell_type": "code",
      "source": [
        "actmed_csv = pd.read_csv(actmed_csv_path, nrows=None)\n",
        "print(actmed_csv.shape)\n",
        "\n",
        "actmed_csv['finding'].fillna('NaN', inplace=True)\n",
        "\n",
        "data_file = open(f'./{dataset_dir}/{data_file_name}', 'a')\n",
        "\n",
        "for _, row in actmed_csv.iterrows():\n",
        "    if row['finding'] == 'NaN' or row['view'] != 'PA':\n",
        "        continue\n",
        "    \n",
        "    image = row['imagename']\n",
        "    \n",
        "    src_path = f'{actmed_img_path}/{image}'\n",
        "    dst_path = f'{images_dir}/{image}'\n",
        "    \n",
        "    image_type = image.split('.')[-1]\n",
        "    new_image_name = f'x-ray-{xray_index}.{image_type}'\n",
        "    \n",
        "    shutil.copy(src_path, dst_path)\n",
        "    os.rename(dst_path, f'./{images_dir}/{new_image_name}')\n",
        "    \n",
        "    finding = row['finding']\n",
        "    \n",
        "    if finding == 'COVID-19':\n",
        "        sample = new_image_name + ',' + 'positive' + '\\n'\n",
        "        covid_positives += 1\n",
        "    else:\n",
        "        sample = new_image_name + ',' + 'negative' + '\\n'\n",
        "        covid_negatives += 1\n",
        "    \n",
        "    data_file.write(sample)\n",
        "    xray_index += 1\n",
        "    \n",
        "    print(new_image_name, ': OK')\n",
        "\n",
        "print('Covid positives:', covid_positives)\n",
        "print('Covid negatives:', covid_negatives)\n",
        "\n",
        "data_file.close()"
      ],
      "outputs": [
        {
          "output_type": "stream",
          "name": "stdout",
          "text": [
            "(238, 13)\n",
            "x-ray-40.png : OK\n",
            "x-ray-41.png : OK\n",
            "x-ray-42.png : OK\n",
            "x-ray-43.png : OK\n",
            "x-ray-44.png : OK\n",
            "x-ray-45.png : OK\n",
            "x-ray-46.png : OK\n",
            "x-ray-47.png : OK\n",
            "x-ray-48.png : OK\n",
            "x-ray-49.png : OK\n",
            "x-ray-50.png : OK\n",
            "x-ray-51.png : OK\n",
            "x-ray-52.png : OK\n",
            "x-ray-53.png : OK\n",
            "x-ray-54.png : OK\n",
            "x-ray-55.png : OK\n",
            "x-ray-56.png : OK\n",
            "x-ray-57.png : OK\n",
            "x-ray-58.png : OK\n",
            "x-ray-59.png : OK\n",
            "x-ray-60.png : OK\n",
            "x-ray-61.png : OK\n",
            "x-ray-62.png : OK\n",
            "x-ray-63.png : OK\n",
            "x-ray-64.png : OK\n",
            "x-ray-65.png : OK\n",
            "x-ray-66.png : OK\n",
            "x-ray-67.png : OK\n",
            "x-ray-68.png : OK\n",
            "x-ray-69.png : OK\n",
            "x-ray-70.png : OK\n",
            "x-ray-71.png : OK\n",
            "x-ray-72.png : OK\n",
            "x-ray-73.png : OK\n",
            "x-ray-74.png : OK\n",
            "x-ray-75.png : OK\n",
            "x-ray-76.png : OK\n",
            "x-ray-77.png : OK\n",
            "x-ray-78.png : OK\n",
            "x-ray-79.png : OK\n",
            "x-ray-80.png : OK\n",
            "x-ray-81.png : OK\n",
            "x-ray-82.png : OK\n",
            "x-ray-83.png : OK\n",
            "x-ray-84.png : OK\n",
            "x-ray-85.png : OK\n",
            "x-ray-86.png : OK\n",
            "x-ray-87.png : OK\n",
            "x-ray-88.png : OK\n",
            "x-ray-89.png : OK\n",
            "x-ray-90.png : OK\n",
            "x-ray-91.png : OK\n",
            "x-ray-92.png : OK\n",
            "x-ray-93.png : OK\n",
            "x-ray-94.png : OK\n",
            "x-ray-95.png : OK\n",
            "x-ray-96.png : OK\n",
            "x-ray-97.png : OK\n",
            "x-ray-98.png : OK\n",
            "x-ray-99.png : OK\n",
            "x-ray-100.png : OK\n",
            "x-ray-101.png : OK\n",
            "x-ray-102.png : OK\n",
            "x-ray-103.png : OK\n",
            "x-ray-104.png : OK\n",
            "x-ray-105.png : OK\n",
            "x-ray-106.png : OK\n",
            "x-ray-107.png : OK\n",
            "x-ray-108.png : OK\n",
            "x-ray-109.png : OK\n",
            "x-ray-110.png : OK\n",
            "x-ray-111.png : OK\n",
            "x-ray-112.png : OK\n",
            "x-ray-113.png : OK\n",
            "x-ray-114.png : OK\n",
            "x-ray-115.png : OK\n",
            "x-ray-116.png : OK\n",
            "x-ray-117.png : OK\n",
            "x-ray-118.png : OK\n",
            "x-ray-119.png : OK\n",
            "x-ray-120.png : OK\n",
            "x-ray-121.png : OK\n",
            "x-ray-122.png : OK\n",
            "x-ray-123.png : OK\n",
            "x-ray-124.png : OK\n",
            "x-ray-125.png : OK\n",
            "x-ray-126.png : OK\n",
            "x-ray-127.png : OK\n",
            "x-ray-128.png : OK\n",
            "x-ray-129.png : OK\n",
            "x-ray-130.png : OK\n",
            "x-ray-131.png : OK\n",
            "x-ray-132.png : OK\n",
            "x-ray-133.png : OK\n",
            "x-ray-134.png : OK\n",
            "x-ray-135.png : OK\n",
            "x-ray-136.png : OK\n",
            "x-ray-137.png : OK\n",
            "x-ray-138.png : OK\n",
            "x-ray-139.png : OK\n",
            "x-ray-140.png : OK\n",
            "x-ray-141.png : OK\n",
            "x-ray-142.png : OK\n",
            "x-ray-143.png : OK\n",
            "x-ray-144.png : OK\n",
            "x-ray-145.png : OK\n",
            "x-ray-146.png : OK\n",
            "x-ray-147.png : OK\n",
            "x-ray-148.png : OK\n",
            "x-ray-149.png : OK\n",
            "x-ray-150.png : OK\n",
            "x-ray-151.png : OK\n",
            "x-ray-152.png : OK\n",
            "x-ray-153.png : OK\n",
            "x-ray-154.png : OK\n",
            "x-ray-155.png : OK\n",
            "x-ray-156.png : OK\n",
            "x-ray-157.png : OK\n",
            "x-ray-158.png : OK\n",
            "x-ray-159.png : OK\n",
            "x-ray-160.png : OK\n",
            "x-ray-161.png : OK\n",
            "x-ray-162.png : OK\n",
            "x-ray-163.png : OK\n",
            "x-ray-164.png : OK\n",
            "x-ray-165.png : OK\n",
            "x-ray-166.png : OK\n",
            "x-ray-167.png : OK\n",
            "x-ray-168.png : OK\n",
            "x-ray-169.png : OK\n",
            "x-ray-170.png : OK\n",
            "x-ray-171.png : OK\n",
            "x-ray-172.png : OK\n",
            "x-ray-173.png : OK\n",
            "x-ray-174.png : OK\n",
            "x-ray-175.png : OK\n",
            "x-ray-176.png : OK\n",
            "x-ray-177.png : OK\n",
            "x-ray-178.png : OK\n",
            "x-ray-179.png : OK\n",
            "x-ray-180.png : OK\n",
            "x-ray-181.png : OK\n",
            "x-ray-182.png : OK\n",
            "x-ray-183.png : OK\n",
            "x-ray-184.png : OK\n",
            "x-ray-185.png : OK\n",
            "x-ray-186.png : OK\n",
            "x-ray-187.png : OK\n",
            "x-ray-188.png : OK\n",
            "x-ray-189.png : OK\n",
            "x-ray-190.png : OK\n",
            "x-ray-191.png : OK\n",
            "x-ray-192.png : OK\n",
            "x-ray-193.png : OK\n",
            "x-ray-194.png : OK\n",
            "Covid positives: 67\n",
            "Covid negatives: 128\n"
          ]
        }
      ],
      "execution_count": 10,
      "metadata": {
        "gather": {
          "logged": 1617227260698
        }
      }
    },
    {
      "cell_type": "markdown",
      "source": [
        "#### Due to potential duplicates and other uncertainties, the datasets that the below cells are exploiting aren't being used as of yet."
      ],
      "metadata": {}
    },
    {
      "cell_type": "markdown",
      "source": [
        "### Extract data from 'COVID-19-Radiography-Database'"
      ],
      "metadata": {}
    },
    {
      "cell_type": "code",
      "source": [
        "sirm_cov_csv = pd.read_excel(sirm_cov_csv_path)\n",
        "print(sirm_cov_csv.shape)\n",
        "\n",
        "cohen_urls = set(cohen_csv['url'])\n",
        "\n",
        "data_file = open(f'./{dataset_dir}/{data_file_name}', 'a')\n",
        "\n",
        "for _, row in sirm_cov_csv.iterrows():\n",
        "    if row['URL'] in cohen_urls:\n",
        "        continue\n",
        "    \n",
        "    image_type = row['FORMAT'].lower()\n",
        "    image = f\"COVID ({row['FILE NAME'].split(' ')[1]}).{image_type}\"\n",
        "    \n",
        "    src_path = f'./{sirm_cov_img_path}/{image}'\n",
        "    dst_path = f'./{images_dir}/{image}'\n",
        "    \n",
        "    new_image_name = f'x-ray-{xray_index}.{image_type}'\n",
        "    \n",
        "    shutil.copy2(src_path, dst_path)\n",
        "    os.rename(dst_path, f'./{images_dir}/{new_image_name}')\n",
        "    \n",
        "    sample = new_image_name + ',' + 'positive' + '\\n'\n",
        "    covid_positives += 1\n",
        "    \n",
        "    data_file.write(sample)\n",
        "    xray_index += 1\n",
        "    \n",
        "    print(new_image_name, ': OK')\n",
        "\n",
        "print('Covid positives:', covid_positives)\n",
        "print('Covid negatives:', covid_negatives)\n",
        "\n",
        "data_file.close()"
      ],
      "outputs": [],
      "execution_count": null,
      "metadata": {}
    },
    {
      "cell_type": "code",
      "source": [
        "rsna_csv2 = pd.read_csv(rsna_csv2_path, nrows=None)\n",
        "print(rsna_csv2.shape)\n",
        "\n",
        "data_file = open(f'./{dataset_dir}/{data_file_name}', 'a')\n",
        "\n",
        "for _, row in rsna_csv2.iterrows():\n",
        "    patient_id = row['patientId']\n",
        "    dcm_path = f'{rsna_img_path}/{patient_id}.dcm'\n",
        "    \n",
        "    ds = dicom.dcmread(dcm_path)\n",
        "    pixel_array = ds.pixel_array\n",
        "    \n",
        "    new_image_name = f'x-ray-{xray_index}.png'\n",
        "    dst_path = f'{images_dir}/{new_image_name}'\n",
        "    \n",
        "    cv2.imwrite(dst_path, pixel_array)\n",
        "    \n",
        "    sample = new_image_name + ',' + 'negative' + '\\n'\n",
        "    covid_negatives += 1\n",
        "    \n",
        "    data_file.write(sample)    \n",
        "    xray_index += 1\n",
        "    \n",
        "    print(new_image_name, ': OK')\n",
        "\n",
        "print('Covid positives:', covid_positives)\n",
        "print('Covid negatives:', covid_negatives)\n",
        "\n",
        "data_file.close()"
      ],
      "outputs": [],
      "execution_count": null,
      "metadata": {}
    },
    {
      "cell_type": "markdown",
      "source": [
        "### Store data in Azure blob storage"
      ],
      "metadata": {
        "nteract": {
          "transient": {
            "deleting": false
          }
        }
      }
    },
    {
      "cell_type": "code",
      "source": [
        "from dotenv import load_dotenv\r\n",
        "load_dotenv()\r\n",
        "\r\n",
        "load_dotenv(verbose=True)\r\n",
        "\r\n",
        "from pathlib import Path\r\n",
        "env_path = Path('.') / '.env'\r\n",
        "load_dotenv(dotenv_path=env_path)\r\n",
        "\r\n",
        "import io\r\n",
        "\r\n",
        "container_name = os.getenv('CONTAINERNAME')\r\n",
        "connect_str = os.getenv('AZURE_STORAGE_CONNECTION_STRING')\r\n",
        "\r\n",
        "try:\r\n",
        "    blob_service_client = BlobServiceClient.from_connection_string(connect_str)\r\n",
        "    container_client = blob_service_client.get_container_client(container_name)\r\n",
        "    csv_blob_client = blob_service_client.get_blob_client(container=container_name, blob=\"Covid-19-1/data_file.csv\")\r\n",
        "\r\n",
        "    with open(\"dataset/data_file.csv\", \"rb\") as data:\r\n",
        "        csv_blob_client.upload_blob(data, overwrite=True)\r\n",
        "\r\n",
        "    blob_deletions = 0\r\n",
        "\r\n",
        "    img_blob_list = container_client.list_blobs(name_starts_with='Covid-19-1/images/')\r\n",
        "    for blob in img_blob_list:\r\n",
        "        img_blob_client = blob_service_client.get_blob_client(container=container_name, blob=blob['name'])\r\n",
        "        img_blob_client.delete_blob()\r\n",
        "        blob_deletions += 1\r\n",
        "    print(f'Successfully deleted {blob_deletions} image blobs')\r\n",
        "    \r\n",
        "    files = glob(f'{images_dir}/*')\r\n",
        "    for f in files:\r\n",
        "        img_name = f.split('/')[-1]\r\n",
        "        img_blob_client = blob_service_client.get_blob_client(container=container_name, blob=f\"Covid-19-1/images/{img_name}\")\r\n",
        "\r\n",
        "        image_content_setting = ContentSettings(content_type='image/jpeg')\r\n",
        "        with open(f, \"rb\") as data:\r\n",
        "            img_blob_client.upload_blob(data, overwrite=True, content_settings=image_content_setting)\r\n",
        "        \r\n",
        "        print(f'{img_name} : OK')\r\n",
        "\r\n",
        "except Exception as ex:\r\n",
        "    print('Exception:', ex)"
      ],
      "outputs": [
        {
          "output_type": "stream",
          "name": "stdout",
          "text": [
            "Successfully deleted 268 image blobs\n",
            "x-ray-0.jpg : OK\n",
            "x-ray-1.jpg : OK\n",
            "x-ray-10.jpg : OK\n",
            "x-ray-100.png : OK\n",
            "x-ray-101.png : OK\n",
            "x-ray-102.png : OK\n",
            "x-ray-103.png : OK\n",
            "x-ray-104.png : OK\n",
            "x-ray-105.png : OK\n",
            "x-ray-106.png : OK\n",
            "x-ray-107.png : OK\n",
            "x-ray-108.png : OK\n",
            "x-ray-109.png : OK\n",
            "x-ray-11.jpg : OK\n",
            "x-ray-110.png : OK\n",
            "x-ray-111.png : OK\n",
            "x-ray-112.png : OK\n",
            "x-ray-113.png : OK\n",
            "x-ray-114.png : OK\n",
            "x-ray-115.png : OK\n",
            "x-ray-116.png : OK\n",
            "x-ray-117.png : OK\n",
            "x-ray-118.png : OK\n",
            "x-ray-119.png : OK\n",
            "x-ray-12.jpg : OK\n",
            "x-ray-120.png : OK\n",
            "x-ray-121.png : OK\n",
            "x-ray-122.png : OK\n",
            "x-ray-123.png : OK\n",
            "x-ray-124.png : OK\n",
            "x-ray-125.png : OK\n",
            "x-ray-126.png : OK\n",
            "x-ray-127.png : OK\n",
            "x-ray-128.png : OK\n",
            "x-ray-129.png : OK\n",
            "x-ray-13.jpg : OK\n",
            "x-ray-130.png : OK\n",
            "x-ray-131.png : OK\n",
            "x-ray-132.png : OK\n",
            "x-ray-133.png : OK\n",
            "x-ray-134.png : OK\n",
            "x-ray-135.png : OK\n",
            "x-ray-136.png : OK\n",
            "x-ray-137.png : OK\n",
            "x-ray-138.png : OK\n",
            "x-ray-139.png : OK\n",
            "x-ray-14.jpg : OK\n",
            "x-ray-140.png : OK\n",
            "x-ray-141.png : OK\n",
            "x-ray-142.png : OK\n",
            "x-ray-143.png : OK\n",
            "x-ray-144.png : OK\n",
            "x-ray-145.png : OK\n",
            "x-ray-146.png : OK\n",
            "x-ray-147.png : OK\n",
            "x-ray-148.png : OK\n",
            "x-ray-149.png : OK\n",
            "x-ray-15.jpg : OK\n",
            "x-ray-150.png : OK\n",
            "x-ray-151.png : OK\n",
            "x-ray-152.png : OK\n",
            "x-ray-153.png : OK\n",
            "x-ray-154.png : OK\n",
            "x-ray-155.png : OK\n",
            "x-ray-156.png : OK\n",
            "x-ray-157.png : OK\n",
            "x-ray-158.png : OK\n",
            "x-ray-159.png : OK\n",
            "x-ray-16.jpg : OK\n",
            "x-ray-160.png : OK\n",
            "x-ray-161.png : OK\n",
            "x-ray-162.png : OK\n",
            "x-ray-163.png : OK\n",
            "x-ray-164.png : OK\n",
            "x-ray-165.png : OK\n",
            "x-ray-166.png : OK\n",
            "x-ray-167.png : OK\n",
            "x-ray-168.png : OK\n",
            "x-ray-169.png : OK\n",
            "x-ray-17.jpg : OK\n",
            "x-ray-170.png : OK\n",
            "x-ray-171.png : OK\n",
            "x-ray-172.png : OK\n",
            "x-ray-173.png : OK\n",
            "x-ray-174.png : OK\n",
            "x-ray-175.png : OK\n",
            "x-ray-176.png : OK\n",
            "x-ray-177.png : OK\n",
            "x-ray-178.png : OK\n",
            "x-ray-179.png : OK\n",
            "x-ray-18.jpg : OK\n",
            "x-ray-180.png : OK\n",
            "x-ray-181.png : OK\n",
            "x-ray-182.png : OK\n",
            "x-ray-183.png : OK\n",
            "x-ray-184.png : OK\n",
            "x-ray-185.png : OK\n",
            "x-ray-186.png : OK\n",
            "x-ray-187.png : OK\n",
            "x-ray-188.png : OK\n",
            "x-ray-189.png : OK\n",
            "x-ray-19.jpg : OK\n",
            "x-ray-190.png : OK\n",
            "x-ray-191.png : OK\n",
            "x-ray-192.png : OK\n",
            "x-ray-193.png : OK\n",
            "x-ray-194.png : OK\n",
            "x-ray-2.jpg : OK\n",
            "x-ray-20.jpg : OK\n",
            "x-ray-21.jpg : OK\n",
            "x-ray-22.jpg : OK\n",
            "x-ray-23.jpg : OK\n",
            "x-ray-24.jpg : OK\n",
            "x-ray-25.jpg : OK\n",
            "x-ray-26.jpg : OK\n",
            "x-ray-27.jpg : OK\n",
            "x-ray-28.jpg : OK\n",
            "x-ray-29.jpg : OK\n",
            "x-ray-3.jpg : OK\n",
            "x-ray-30.jpg : OK\n",
            "x-ray-31.jpg : OK\n",
            "x-ray-32.jpg : OK\n",
            "x-ray-33.jpg : OK\n",
            "x-ray-34.jpg : OK\n",
            "x-ray-35.jpg : OK\n",
            "x-ray-36.jpg : OK\n",
            "x-ray-37.png : OK\n",
            "x-ray-38.png : OK\n",
            "x-ray-39.png : OK\n",
            "x-ray-4.jpg : OK\n",
            "x-ray-40.png : OK\n",
            "x-ray-41.png : OK\n",
            "x-ray-42.png : OK\n",
            "x-ray-43.png : OK\n",
            "x-ray-44.png : OK\n",
            "x-ray-45.png : OK\n",
            "x-ray-46.png : OK\n",
            "x-ray-47.png : OK\n",
            "x-ray-48.png : OK\n",
            "x-ray-49.png : OK\n",
            "x-ray-5.jpg : OK\n",
            "x-ray-50.png : OK\n",
            "x-ray-51.png : OK\n",
            "x-ray-52.png : OK\n",
            "x-ray-53.png : OK\n",
            "x-ray-54.png : OK\n",
            "x-ray-55.png : OK\n",
            "x-ray-56.png : OK\n",
            "x-ray-57.png : OK\n",
            "x-ray-58.png : OK\n",
            "x-ray-59.png : OK\n",
            "x-ray-6.jpg : OK\n",
            "x-ray-60.png : OK\n",
            "x-ray-61.png : OK\n",
            "x-ray-62.png : OK\n",
            "x-ray-63.png : OK\n",
            "x-ray-64.png : OK\n",
            "x-ray-65.png : OK\n",
            "x-ray-66.png : OK\n",
            "x-ray-67.png : OK\n",
            "x-ray-68.png : OK\n",
            "x-ray-69.png : OK\n",
            "x-ray-7.png : OK\n",
            "x-ray-70.png : OK\n",
            "x-ray-71.png : OK\n",
            "x-ray-72.png : OK\n",
            "x-ray-73.png : OK\n",
            "x-ray-74.png : OK\n",
            "x-ray-75.png : OK\n",
            "x-ray-76.png : OK\n",
            "x-ray-77.png : OK\n",
            "x-ray-78.png : OK\n",
            "x-ray-79.png : OK\n",
            "x-ray-8.png : OK\n",
            "x-ray-80.png : OK\n",
            "x-ray-81.png : OK\n",
            "x-ray-82.png : OK\n",
            "x-ray-83.png : OK\n",
            "x-ray-84.png : OK\n",
            "x-ray-85.png : OK\n",
            "x-ray-86.png : OK\n",
            "x-ray-87.png : OK\n",
            "x-ray-88.png : OK\n",
            "x-ray-89.png : OK\n",
            "x-ray-9.jpg : OK\n",
            "x-ray-90.png : OK\n",
            "x-ray-91.png : OK\n",
            "x-ray-92.png : OK\n",
            "x-ray-93.png : OK\n",
            "x-ray-94.png : OK\n",
            "x-ray-95.png : OK\n",
            "x-ray-96.png : OK\n",
            "x-ray-97.png : OK\n",
            "x-ray-98.png : OK\n",
            "x-ray-99.png : OK\n"
          ]
        }
      ],
      "execution_count": 11,
      "metadata": {
        "collapsed": true,
        "jupyter": {
          "source_hidden": false,
          "outputs_hidden": false
        },
        "nteract": {
          "transient": {
            "deleting": false
          }
        },
        "gather": {
          "logged": 1617227520949
        }
      }
    }
  ],
  "metadata": {
    "kernelspec": {
      "name": "python3-azureml",
      "language": "python",
      "display_name": "Python 3.6 - AzureML"
    },
    "language_info": {
      "name": "python",
      "version": "3.6.9",
      "mimetype": "text/x-python",
      "codemirror_mode": {
        "name": "ipython",
        "version": 3
      },
      "pygments_lexer": "ipython3",
      "nbconvert_exporter": "python",
      "file_extension": ".py"
    },
    "kernel_info": {
      "name": "python3-azureml"
    },
    "nteract": {
      "version": "nteract-front-end@1.0.0"
    }
  },
  "nbformat": 4,
  "nbformat_minor": 4
}