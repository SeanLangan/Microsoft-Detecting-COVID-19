{
 "cells": [
  {
   "cell_type": "code",
   "execution_count": 34,
   "metadata": {},
   "outputs": [],
   "source": [
    "import pandas as pd\n",
    "import os\n",
    "import shutil"
   ]
  },
  {
   "cell_type": "code",
   "execution_count": 35,
   "metadata": {},
   "outputs": [],
   "source": [
    "cohen_dir = 'covid-chestxray-dataset'\n",
    "cohen_csv_path = f'./{cohen_dir}/metadata.csv'\n",
    "cohen_img_path = f'./{cohen_dir}/images'"
   ]
  },
  {
   "cell_type": "code",
   "execution_count": 36,
   "metadata": {},
   "outputs": [],
   "source": [
    "fig1_dir = 'Figure1-COVID-chestxray-dataset'\n",
    "fig1_csv_path = f'./{fig1_dir}/metadata.csv'\n",
    "fig1_img_path = f'./{fig1_dir}/images'"
   ]
  },
  {
   "cell_type": "code",
   "execution_count": 37,
   "metadata": {},
   "outputs": [],
   "source": [
    "actmed_dir = 'Actualmed-COVID-chestxray-dataset'\n",
    "actmed_csv_path = f'./{actmed_dir}/metadata.csv'\n",
    "actmed_img_path = f'./{actmed_dir}/images'"
   ]
  },
  {
   "cell_type": "code",
   "execution_count": 38,
   "metadata": {},
   "outputs": [],
   "source": [
    "sirm_dir = 'COVID-19-Radiography-Database'\n",
    "sirm_csv_path = f'./{sirm_dir}/COVID'\n",
    "sirm_img_path = f'./{sirm_dir}.xlsx'"
   ]
  },
  {
   "cell_type": "code",
   "execution_count": 39,
   "metadata": {},
   "outputs": [],
   "source": [
    "rsna_csv1_path = './stage_2_detailed_class_info.csv'\n",
    "rsna_csv2_path = './stage_2_train_labels.csv'\n",
    "rsna_img_path = './stage_2_train_images'"
   ]
  },
  {
   "cell_type": "code",
   "execution_count": 40,
   "metadata": {},
   "outputs": [],
   "source": [
    "dataset_dir = 'dataset'\n",
    "\n",
    "images_dir = f'{dataset_dir}/images'\n",
    "\n",
    "if not os.path.exists(dataset_dir):\n",
    "    os.mkdir(dataset_dir)\n",
    "    print(\"Dataset directory created.\")\n",
    "\n",
    "if not os.path.exists(images_dir):\n",
    "    os.mkdir(images_dir)\n",
    "    print(\"Images directory created.\")"
   ]
  },
  {
   "cell_type": "code",
   "execution_count": 49,
   "metadata": {},
   "outputs": [],
   "source": [
    "open(f'./{dataset_dir}/data_file.csv', 'w').close()"
   ]
  },
  {
   "cell_type": "code",
   "execution_count": 50,
   "metadata": {},
   "outputs": [
    {
     "name": "stdout",
     "output_type": "stream",
     "text": [
      "(950, 30)\n",
      "Covid positives: 563\n",
      "Covid negatives: 366\n"
     ]
    }
   ],
   "source": [
    "cohen_csv = pd.read_csv(cohen_csv_path, nrows=None)\n",
    "print(cohen_csv.shape)\n",
    "\n",
    "data_file = open(f'./{dataset_dir}/data_file.csv', 'w')\n",
    "data_file.write('filename,diagnosis\\n')\n",
    "\n",
    "covid_positives = 0\n",
    "covid_negatives = 0\n",
    "\n",
    "for i, row in cohen_csv.iterrows():\n",
    "    if row['folder'] == 'volumes':\n",
    "        continue\n",
    "    \n",
    "    image = row['filename']\n",
    "    \n",
    "    src_path = f'{cohen_img_path}/{image}'\n",
    "    dst_path = f'{images_dir}/{image}'\n",
    "    \n",
    "    shutil.copy2(src_path, dst_path)\n",
    "    \n",
    "    finding = row['finding'].split('/')[-1]\n",
    "    \n",
    "    if finding == 'COVID-19':\n",
    "        sample = str(image) + ',' + 'positive' + '\\n'\n",
    "        covid_positives += 1\n",
    "    else:\n",
    "        sample = str(image) + ',' + 'negative' + '\\n'\n",
    "        covid_negatives += 1\n",
    "    data_file.write(sample)\n",
    "\n",
    "print('Covid positives:', covid_positives)\n",
    "print('Covid negatives:', covid_negatives)\n",
    "\n",
    "data_file.close()"
   ]
  }
 ],
 "metadata": {
  "kernelspec": {
   "display_name": "Python 3",
   "language": "python",
   "name": "python3"
  },
  "language_info": {
   "codemirror_mode": {
    "name": "ipython",
    "version": 3
   },
   "file_extension": ".py",
   "mimetype": "text/x-python",
   "name": "python",
   "nbconvert_exporter": "python",
   "pygments_lexer": "ipython3",
   "version": "3.8.3"
  }
 },
 "nbformat": 4,
 "nbformat_minor": 4
}
