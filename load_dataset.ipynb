{
  "cells": [
    {
      "cell_type": "markdown",
      "source": [
        "### Import libraries"
      ],
      "metadata": {}
    },
    {
      "cell_type": "code",
      "source": [
        "import sys\n",
        "!{sys.executable} -m pip install pydicom"
      ],
      "outputs": [
        {
          "output_type": "stream",
          "name": "stdout",
          "text": [
            "Collecting pydicom\n",
            "  Downloading pydicom-2.1.2-py3-none-any.whl (1.9 MB)\n",
            "\u001b[K     |████████████████████████████████| 1.9 MB 18.6 MB/s eta 0:00:01\n",
            "\u001b[?25hInstalling collected packages: pydicom\n",
            "Successfully installed pydicom-2.1.2\n"
          ]
        }
      ],
      "execution_count": 2,
      "metadata": {
        "scrolled": true,
        "gather": {
          "logged": 1616776455616
        }
      }
    },
    {
      "cell_type": "code",
      "source": [
        "!{sys.executable} -m pip install python-dotenv"
      ],
      "outputs": [
        {
          "output_type": "stream",
          "name": "stdout",
          "text": [
            "Collecting python-dotenv\n",
            "  Downloading python_dotenv-0.15.0-py2.py3-none-any.whl (18 kB)\n",
            "Installing collected packages: python-dotenv\n",
            "Successfully installed python-dotenv-0.15.0\n"
          ]
        }
      ],
      "execution_count": 15,
      "metadata": {
        "collapsed": true,
        "jupyter": {
          "source_hidden": false,
          "outputs_hidden": false
        },
        "nteract": {
          "transient": {
            "deleting": false
          }
        }
      }
    },
    {
      "cell_type": "code",
      "source": [
        "!{sys.executable} -m pip install opencv-python"
      ],
      "outputs": [
        {
          "output_type": "stream",
          "name": "stdout",
          "text": [
            "Requirement already satisfied: opencv-python in /anaconda/envs/azureml_py36/lib/python3.6/site-packages (4.5.1.48)\r\n",
            "Requirement already satisfied: numpy>=1.13.3 in /anaconda/envs/azureml_py36/lib/python3.6/site-packages (from opencv-python) (1.18.5)\r\n"
          ]
        }
      ],
      "execution_count": 4,
      "metadata": {}
    },
    {
      "cell_type": "code",
      "source": [
        "import pandas as pd\n",
        "import os\n",
        "import shutil\n",
        "from glob import glob\n",
        "import pydicom as dicom\n",
        "import cv2\n",
        "import uuid\n",
        "from azure.storage.blob import BlobServiceClient, BlobClient, ContainerClient, __version__\n"
      ],
      "outputs": [],
      "execution_count": 3,
      "metadata": {
        "gather": {
          "logged": 1616776463751
        }
      }
    },
    {
      "cell_type": "code",
      "source": [
        "cohen_dir = 'covid-chestxray-dataset'\n",
        "cohen_csv_path = f'./{cohen_dir}/metadata.csv'\n",
        "cohen_img_path = f'./{cohen_dir}/images'"
      ],
      "outputs": [],
      "execution_count": 5,
      "metadata": {
        "gather": {
          "logged": 1616776511134
        }
      }
    },
    {
      "cell_type": "code",
      "source": [
        "fig1_dir = 'Figure1-COVID-chestxray-dataset'\n",
        "fig1_csv_path = f'./{fig1_dir}/metadata.csv'\n",
        "fig1_img_path = f'./{fig1_dir}/images'"
      ],
      "outputs": [],
      "execution_count": 6,
      "metadata": {
        "gather": {
          "logged": 1616776514952
        }
      }
    },
    {
      "cell_type": "code",
      "source": [
        "actmed_dir = 'Actualmed-COVID-chestxray-dataset'\n",
        "actmed_csv_path = f'./{actmed_dir}/metadata.csv'\n",
        "actmed_img_path = f'./{actmed_dir}/images'"
      ],
      "outputs": [],
      "execution_count": 7,
      "metadata": {
        "gather": {
          "logged": 1616776516934
        }
      }
    },
    {
      "cell_type": "code",
      "source": [
        "sirm_dir = 'COVID-19-Radiography-Database'\n",
        "sirm_cov_csv_path = f'./{sirm_dir}/COVID.metadata.xlsx'\n",
        "sirm_cov_img_path = f'./{sirm_dir}/COVID'"
      ],
      "outputs": [],
      "execution_count": 8,
      "metadata": {
        "gather": {
          "logged": 1616776518898
        }
      }
    },
    {
      "cell_type": "code",
      "source": [
        "rsna_csv1_path = './stage_2_detailed_class_info.csv'\n",
        "rsna_csv2_path = './stage_2_train_labels.csv'\n",
        "rsna_img_path = './stage_2_train_images'"
      ],
      "outputs": [],
      "execution_count": 9,
      "metadata": {
        "gather": {
          "logged": 1616776520249
        }
      }
    },
    {
      "cell_type": "markdown",
      "source": [
        "### Initialize directories, files and metrics variables"
      ],
      "metadata": {}
    },
    {
      "cell_type": "code",
      "source": [
        "dataset_dir = 'dataset'\n",
        "\n",
        "images_dir = f'{dataset_dir}/images'\n",
        "data_file_name = 'data_file.csv'\n",
        "\n",
        "deletions = 0\n",
        "\n",
        "if not os.path.exists(dataset_dir):\n",
        "    os.mkdir(dataset_dir)\n",
        "    print('Successfully created \\'dataset\\' directory created.')\n",
        "\n",
        "if not os.path.exists(images_dir):\n",
        "    os.mkdir(images_dir)\n",
        "    print('Successfully created \\'images\\' directory created.')\n",
        "else:\n",
        "    files = glob(f'{images_dir}/*')\n",
        "    for f in files:\n",
        "        try:\n",
        "            os.remove(f)\n",
        "            deletions += 1\n",
        "        except OSError as e:\n",
        "            print('Error: %s : %s' % (f, e.strerror))\n",
        "    print(f'Successfully deleted {deletions} images from the \\'images\\' directory')\n",
        "\n",
        "data_file = open(f'./{dataset_dir}/{data_file_name}', 'w')\n",
        "data_file.write('filename,diagnosis\\n')\n",
        "data_file.close()\n",
        "print(f'Successfully deleted {deletions} entries from \\'{data_file_name}\\'')\n",
        "\n",
        "covid_positives = 0\n",
        "covid_negatives = 0\n",
        "xray_index = 0"
      ],
      "outputs": [
        {
          "output_type": "stream",
          "name": "stdout",
          "text": [
            "Successfully deleted 1920 images from the 'images' directory\n",
            "Successfully deleted 1920 entries from 'data_file.csv'\n"
          ]
        }
      ],
      "execution_count": 10,
      "metadata": {
        "gather": {
          "logged": 1616776780313
        }
      }
    },
    {
      "cell_type": "markdown",
      "source": [
        "### Extract data from 'covid-chestray-dataset'"
      ],
      "metadata": {}
    },
    {
      "cell_type": "code",
      "source": [
        "cohen_csv = pd.read_csv(cohen_csv_path, nrows=None)\n",
        "print(cohen_csv.shape)\n",
        "\n",
        "data_file = open(f'./{dataset_dir}/{data_file_name}', 'a')\n",
        "\n",
        "for _, row in cohen_csv.iterrows():\n",
        "    if row['folder'] == 'volumes':\n",
        "        continue\n",
        "    \n",
        "    image = row['filename']\n",
        "    \n",
        "    src_path = f'./{cohen_img_path}/{image}'\n",
        "    dst_path = f'./{images_dir}/{image}'\n",
        "    \n",
        "    image_type = image.split('.')[-1]\n",
        "    new_image_name = f'x-ray-{xray_index}.{image_type}'\n",
        "    \n",
        "    shutil.copy2(src_path, dst_path)\n",
        "    os.rename(dst_path, f'./{images_dir}/{new_image_name}')\n",
        "    \n",
        "    finding = row['finding'].split('/')[-1]\n",
        "    \n",
        "    if finding == 'COVID-19':\n",
        "        sample = new_image_name + ',' + 'positive' + '\\n'\n",
        "        covid_positives += 1\n",
        "    else:\n",
        "        sample = new_image_name + ',' + 'negative' + '\\n'\n",
        "        covid_negatives += 1\n",
        "        \n",
        "    data_file.write(sample)\n",
        "    xray_index += 1\n",
        "    \n",
        "    print(new_image_name, ': OK')\n",
        "\n",
        "print('Covid positives:', covid_positives)\n",
        "print('Covid negatives:', covid_negatives)\n",
        "\n",
        "data_file.close()"
      ],
      "outputs": [],
      "execution_count": null,
      "metadata": {}
    },
    {
      "cell_type": "markdown",
      "source": [
        "### Extract data from 'Figure1-COVID-chestxray-dataset'"
      ],
      "metadata": {}
    },
    {
      "cell_type": "code",
      "source": [
        "fig1_csv = pd.read_csv(fig1_csv_path, encoding='ISO-8859-1', nrows=None)\n",
        "print(fig1_csv.shape)\n",
        "\n",
        "fig1_csv['finding'].fillna('NaN', inplace=True)\n",
        "\n",
        "data_file = open(f'./{dataset_dir}/{data_file_name}', 'a')\n",
        "\n",
        "for _, row in fig1_csv.iterrows():\n",
        "    if row['finding'] == 'NaN':\n",
        "        continue\n",
        "    \n",
        "    patient_id = row['patientid']\n",
        "    image = f'{patient_id}.jpg'\n",
        "    \n",
        "    src_path = f'{fig1_img_path}/{image}'\n",
        "    if not os.path.exists(src_path):\n",
        "        image = f'{patient_id}.png'\n",
        "        src_path = f'{fig1_img_path}/{image}'\n",
        "    dst_path = f'{images_dir}/{image}'\n",
        "    \n",
        "    image_type = image.split('.')[-1]\n",
        "    new_image_name = f'x-ray-{xray_index}.{image_type}'\n",
        "    \n",
        "    shutil.copy2(src_path, dst_path)\n",
        "    os.rename(dst_path, f'./{images_dir}/{new_image_name}')\n",
        "    \n",
        "    finding = row['finding']\n",
        "    \n",
        "    if finding == 'COVID-19':\n",
        "        sample = new_image_name + ',' + 'positive' + '\\n'\n",
        "        covid_positives += 1\n",
        "    else:\n",
        "        sample = new_image_name + ',' + 'negative' + '\\n'\n",
        "        covid_negatives += 1\n",
        "    \n",
        "    data_file.write(sample)\n",
        "    xray_index += 1\n",
        "    \n",
        "    print(new_image_name, ': OK')\n",
        "\n",
        "print('Covid positives:', covid_positives)\n",
        "print('Covid negatives:', covid_negatives)\n",
        "\n",
        "data_file.close()"
      ],
      "outputs": [],
      "execution_count": null,
      "metadata": {}
    },
    {
      "cell_type": "markdown",
      "source": [
        "### Extract data from 'Actualmed-COVID-chestxray-dataset'"
      ],
      "metadata": {}
    },
    {
      "cell_type": "code",
      "source": [
        "actmed_csv = pd.read_csv(actmed_csv_path, nrows=None)\n",
        "print(actmed_csv.shape)\n",
        "\n",
        "actmed_csv['finding'].fillna('NaN', inplace=True)\n",
        "\n",
        "data_file = open(f'./{dataset_dir}/{data_file_name}', 'a')\n",
        "\n",
        "for _, row in actmed_csv.iterrows():\n",
        "    if row['finding'] == 'NaN':\n",
        "        continue\n",
        "    \n",
        "    image = row['imagename']\n",
        "    \n",
        "    src_path = f'{actmed_img_path}/{image}'\n",
        "    dst_path = f'{images_dir}/{image}'\n",
        "    \n",
        "    image_type = image.split('.')[-1]\n",
        "    new_image_name = f'x-ray-{xray_index}.{image_type}'\n",
        "    \n",
        "    shutil.copy2(src_path, dst_path)\n",
        "    os.rename(dst_path, f'./{images_dir}/{new_image_name}')\n",
        "    \n",
        "    finding = row['finding']\n",
        "    \n",
        "    if finding == 'COVID-19':\n",
        "        sample = new_image_name + ',' + 'positive' + '\\n'\n",
        "        covid_positives += 1\n",
        "    else:\n",
        "        sample = new_image_name + ',' + 'negative' + '\\n'\n",
        "        covid_negatives += 1\n",
        "    \n",
        "    data_file.write(sample)\n",
        "    xray_index += 1\n",
        "    \n",
        "    print(new_image_name, ': OK')\n",
        "\n",
        "print('Covid positives:', covid_positives)\n",
        "print('Covid negatives:', covid_negatives)\n",
        "\n",
        "data_file.close()"
      ],
      "outputs": [],
      "execution_count": null,
      "metadata": {}
    },
    {
      "cell_type": "markdown",
      "source": [
        "#### Due to potential duplicates and other uncertainties, the datasets that the below cells are exploiting aren't being used as of yet."
      ],
      "metadata": {}
    },
    {
      "cell_type": "markdown",
      "source": [
        "### Extract data from 'COVID-19-Radiography-Database'"
      ],
      "metadata": {}
    },
    {
      "cell_type": "code",
      "source": [
        "sirm_cov_csv = pd.read_excel(sirm_cov_csv_path)\n",
        "print(sirm_cov_csv.shape)\n",
        "\n",
        "cohen_urls = set(cohen_csv['url'])\n",
        "\n",
        "data_file = open(f'./{dataset_dir}/{data_file_name}', 'a')\n",
        "\n",
        "for _, row in sirm_cov_csv.iterrows():\n",
        "    if row['URL'] in cohen_urls:\n",
        "        continue\n",
        "    \n",
        "    image_type = row['FORMAT'].lower()\n",
        "    image = f\"COVID ({row['FILE NAME'].split(' ')[1]}).{image_type}\"\n",
        "    \n",
        "    src_path = f'./{sirm_cov_img_path}/{image}'\n",
        "    dst_path = f'./{images_dir}/{image}'\n",
        "    \n",
        "    new_image_name = f'x-ray-{xray_index}.{image_type}'\n",
        "    \n",
        "    shutil.copy2(src_path, dst_path)\n",
        "    os.rename(dst_path, f'./{images_dir}/{new_image_name}')\n",
        "    \n",
        "    sample = new_image_name + ',' + 'positive' + '\\n'\n",
        "    covid_positives += 1\n",
        "    \n",
        "    data_file.write(sample)\n",
        "    xray_index += 1\n",
        "    \n",
        "    print(new_image_name, ': OK')\n",
        "\n",
        "print('Covid positives:', covid_positives)\n",
        "print('Covid negatives:', covid_negatives)\n",
        "\n",
        "data_file.close()"
      ],
      "outputs": [],
      "execution_count": null,
      "metadata": {}
    },
    {
      "cell_type": "code",
      "source": [
        "rsna_csv2 = pd.read_csv(rsna_csv2_path, nrows=None)\n",
        "print(rsna_csv2.shape)\n",
        "\n",
        "data_file = open(f'./{dataset_dir}/{data_file_name}', 'a')\n",
        "\n",
        "for _, row in rsna_csv2.iterrows():\n",
        "    patient_id = row['patientId']\n",
        "    dcm_path = f'{rsna_img_path}/{patient_id}.dcm'\n",
        "    \n",
        "    ds = dicom.dcmread(dcm_path)\n",
        "    pixel_array = ds.pixel_array\n",
        "    \n",
        "    new_image_name = f'x-ray-{xray_index}.png'\n",
        "    dst_path = f'{images_dir}/{new_image_name}'\n",
        "    \n",
        "    cv2.imwrite(dst_path, pixel_array)\n",
        "    \n",
        "    sample = new_image_name + ',' + 'negative' + '\\n'\n",
        "    covid_negatives += 1\n",
        "    \n",
        "    data_file.write(sample)    \n",
        "    xray_index += 1\n",
        "    \n",
        "    print(new_image_name, ': OK')\n",
        "\n",
        "print('Covid positives:', covid_positives)\n",
        "print('Covid negatives:', covid_negatives)\n",
        "\n",
        "data_file.close()"
      ],
      "outputs": [],
      "execution_count": null,
      "metadata": {}
    },
    {
      "cell_type": "code",
      "source": [
        "from dotenv import load_dotenv\r\n",
        "load_dotenv()\r\n",
        "\r\n",
        "load_dotenv(verbose=True)\r\n",
        "\r\n",
        "from pathlib import Path\r\n",
        "env_path = Path('.') / '.env'\r\n",
        "load_dotenv(dotenv_path=env_path)\r\n",
        "\r\n",
        "try:\r\n",
        "    print(\"Azure Blob Storage v\" + __version__ )\r\n",
        "    connect_str = os.getenv('AZURE_STORAGE_CONNECTION_STRING')\r\n",
        "    \r\n",
        "    blob_service_client = BlobServiceClient.from_connection_string(connect_str)\r\n",
        "    blob_client = blob_service_client.get_blob_client(container=\"sourcedata\", blob=\"Covid-19-1/data_file2.csv\")\r\n",
        "\r\n",
        "    with open(\"dataset/data_file.csv\", \"rb\") as data:\r\n",
        "        blob_client.upload_blob(data)\r\n",
        "\r\n",
        "\r\n",
        "\r\n",
        "except Exception as ex:\r\n",
        "    print('Exception:')\r\n",
        "    print(ex)\r\n",
        "    \r\n"
      ],
      "outputs": [
        {
          "output_type": "stream",
          "name": "stdout",
          "text": [
            "Azure Blob Storage v12.7.1\n"
          ]
        }
      ],
      "execution_count": 24,
      "metadata": {
        "collapsed": true,
        "jupyter": {
          "source_hidden": false,
          "outputs_hidden": false
        },
        "nteract": {
          "transient": {
            "deleting": false
          }
        },
        "gather": {
          "logged": 1616779112585
        }
      }
    }
  ],
  "metadata": {
    "kernelspec": {
      "name": "python3",
      "language": "python",
      "display_name": "Python 3"
    },
    "language_info": {
      "name": "python",
      "version": "3.6.9",
      "mimetype": "text/x-python",
      "codemirror_mode": {
        "name": "ipython",
        "version": 3
      },
      "pygments_lexer": "ipython3",
      "nbconvert_exporter": "python",
      "file_extension": ".py"
    },
    "kernel_info": {
      "name": "python3"
    },
    "nteract": {
      "version": "nteract-front-end@1.0.0"
    }
  },
  "nbformat": 4,
  "nbformat_minor": 4
}