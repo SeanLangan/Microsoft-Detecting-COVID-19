{
 "cells": [
  {
   "cell_type": "code",
   "execution_count": 39,
   "metadata": {},
   "outputs": [],
   "source": [
    "import pandas as pd\n",
    "import os\n",
    "import shutil\n",
    "from glob import glob"
   ]
  },
  {
   "cell_type": "code",
   "execution_count": 2,
   "metadata": {},
   "outputs": [],
   "source": [
    "cohen_dir = 'covid-chestxray-dataset'\n",
    "cohen_csv_path = f'./{cohen_dir}/metadata.csv'\n",
    "cohen_img_path = f'./{cohen_dir}/images'"
   ]
  },
  {
   "cell_type": "code",
   "execution_count": 3,
   "metadata": {},
   "outputs": [],
   "source": [
    "fig1_dir = 'Figure1-COVID-chestxray-dataset'\n",
    "fig1_csv_path = f'./{fig1_dir}/metadata.csv'\n",
    "fig1_img_path = f'./{fig1_dir}/images'"
   ]
  },
  {
   "cell_type": "code",
   "execution_count": 4,
   "metadata": {},
   "outputs": [],
   "source": [
    "actmed_dir = 'Actualmed-COVID-chestxray-dataset'\n",
    "actmed_csv_path = f'./{actmed_dir}/metadata.csv'\n",
    "actmed_img_path = f'./{actmed_dir}/images'"
   ]
  },
  {
   "cell_type": "code",
   "execution_count": 5,
   "metadata": {},
   "outputs": [],
   "source": [
    "sirm_dir = 'COVID-19-Radiography-Database'\n",
    "sirm_csv_path = f'./{sirm_dir}/COVID'\n",
    "sirm_img_path = f'./{sirm_dir}.xlsx'"
   ]
  },
  {
   "cell_type": "code",
   "execution_count": 6,
   "metadata": {},
   "outputs": [],
   "source": [
    "rsna_csv1_path = './stage_2_detailed_class_info.csv'\n",
    "rsna_csv2_path = './stage_2_train_labels.csv'\n",
    "rsna_img_path = './stage_2_train_images'"
   ]
  },
  {
   "cell_type": "code",
   "execution_count": 42,
   "metadata": {},
   "outputs": [
    {
     "name": "stdout",
     "output_type": "stream",
     "text": [
      "Successfully emptied 'images' directory\n",
      "Successfully emptied 'data_file.csv'\n"
     ]
    }
   ],
   "source": [
    "dataset_dir = 'dataset'\n",
    "\n",
    "images_dir = f'{dataset_dir}/images'\n",
    "data_file_name = 'data_file.csv'\n",
    "\n",
    "if not os.path.exists(dataset_dir):\n",
    "    os.mkdir(dataset_dir)\n",
    "    print('Successfully created \\'dataset\\' directory created.')\n",
    "\n",
    "if not os.path.exists(images_dir):\n",
    "    os.mkdir(images_dir)\n",
    "    print('Successfully created \\'images\\' directory created.')\n",
    "else:\n",
    "    files = glob(f'{images_dir}/*')\n",
    "    for f in files:\n",
    "        try:\n",
    "            os.remove(f)\n",
    "        except OSError as e:\n",
    "            print('Error: %s : %s' % (f, e.strerror))\n",
    "    print('Successfully emptied \\'images\\' directory')\n",
    "\n",
    "open(f'./{dataset_dir}/{data_file_name}', 'w').close()\n",
    "print(f'Successfully emptied \\'{data_file_name}\\'')"
   ]
  },
  {
   "cell_type": "code",
   "execution_count": 43,
   "metadata": {},
   "outputs": [
    {
     "name": "stdout",
     "output_type": "stream",
     "text": [
      "(950, 30)\n",
      "Covid positives: 563\n",
      "Covid negatives: 366\n"
     ]
    }
   ],
   "source": [
    "cohen_csv = pd.read_csv(cohen_csv_path, nrows=None)\n",
    "print(cohen_csv.shape)\n",
    "\n",
    "data_file = open(f'./{dataset_dir}/data_file.csv', 'w')\n",
    "data_file.write('filename,diagnosis\\n')\n",
    "\n",
    "covid_positives = 0\n",
    "covid_negatives = 0\n",
    "xray_index = 0\n",
    "\n",
    "for _, row in cohen_csv.iterrows():\n",
    "    if row['folder'] == 'volumes':\n",
    "        continue\n",
    "    \n",
    "    image = row['filename']\n",
    "    \n",
    "    src_path = f'./{cohen_img_path}/{image}'\n",
    "    dst_path = f'./{images_dir}/{image}'\n",
    "    \n",
    "    image_type = image.split('.')[-1]\n",
    "    new_image_name = f'x-ray-{xray_index}.{image_type}'\n",
    "    \n",
    "    shutil.copy2(src_path, dst_path)\n",
    "    os.rename(dst_path, f'./{images_dir}/{new_image_name}')\n",
    "    \n",
    "    finding = row['finding'].split('/')[-1]\n",
    "    \n",
    "    if finding == 'COVID-19':\n",
    "        sample = new_image_name + ',' + 'positive' + '\\n'\n",
    "        covid_positives += 1\n",
    "    else:\n",
    "        sample = new_image_name + ',' + 'negative' + '\\n'\n",
    "        covid_negatives += 1\n",
    "        \n",
    "    data_file.write(sample)\n",
    "    xray_index += 1\n",
    "\n",
    "print('Covid positives:', covid_positives)\n",
    "print('Covid negatives:', covid_negatives)\n",
    "\n",
    "data_file.close()"
   ]
  },
  {
   "cell_type": "code",
   "execution_count": 44,
   "metadata": {},
   "outputs": [
    {
     "name": "stdout",
     "output_type": "stream",
     "text": [
      "(55, 12)\n",
      "Covid positives: 598\n",
      "Covid negatives: 386\n"
     ]
    }
   ],
   "source": [
    "fig1_csv = pd.read_csv(fig1_csv_path, encoding='ISO-8859-1', nrows=None)\n",
    "print(fig1_csv.shape)\n",
    "\n",
    "data_file = open(f'./{dataset_dir}/data_file.csv', 'a')\n",
    "\n",
    "for _, row in fig1_csv.iterrows():\n",
    "    patient_id = row['patientid']\n",
    "    image = f'{patient_id}.jpg'\n",
    "    \n",
    "    src_path = f'{fig1_img_path}/{image}'\n",
    "    if not os.path.exists(src_path):\n",
    "        image = f'{patient_id}.png'\n",
    "        src_path = f'{fig1_img_path}/{image}'\n",
    "    dst_path = f'./{images_dir}/{image}'\n",
    "    \n",
    "    image_type = image.split('.')[-1]\n",
    "    new_image_name = f'x-ray-{xray_index}.{image_type}'\n",
    "    \n",
    "    shutil.copy2(src_path, dst_path)\n",
    "    os.rename(dst_path, f'./{images_dir}/{new_image_name}')\n",
    "    \n",
    "    finding = row['finding']\n",
    "    \n",
    "    if finding == 'COVID-19':\n",
    "        sample = new_image_name + ',' + 'positive' + '\\n'\n",
    "        covid_positives += 1\n",
    "    else:\n",
    "        sample = new_image_name + ',' + 'negative' + '\\n'\n",
    "        covid_negatives += 1\n",
    "    \n",
    "    data_file.write(sample)\n",
    "    xray_index += 1\n",
    "\n",
    "print('Covid positives:', covid_positives)\n",
    "print('Covid negatives:', covid_negatives)\n",
    "\n",
    "data_file.close()"
   ]
  }
 ],
 "metadata": {
  "kernelspec": {
   "display_name": "Python 3",
   "language": "python",
   "name": "python3"
  },
  "language_info": {
   "codemirror_mode": {
    "name": "ipython",
    "version": 3
   },
   "file_extension": ".py",
   "mimetype": "text/x-python",
   "name": "python",
   "nbconvert_exporter": "python",
   "pygments_lexer": "ipython3",
   "version": "3.8.3"
  }
 },
 "nbformat": 4,
 "nbformat_minor": 4
}
