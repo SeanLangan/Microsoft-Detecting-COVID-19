{
  "cells": [
    {
      "cell_type": "code",
      "source": [
        "import tensorflow as tf\r\n",
        "from tensorflow import keras\r\n",
        "from keras.layers import *\r\n",
        "from keras.models import *\r\n",
        "from keras.preprocessing import image\r\n",
        "import matplotlib.pyplot as plt\r\n",
        "import sys\r\n",
        "import os\r\n",
        "import time\r\n"
      ],
      "outputs": [
        {
          "output_type": "stream",
          "name": "stderr",
          "text": [
            "Using TensorFlow backend.\n"
          ]
        }
      ],
      "execution_count": 1,
      "metadata": {
        "collapsed": true,
        "jupyter": {
          "source_hidden": false,
          "outputs_hidden": false
        },
        "nteract": {
          "transient": {
            "deleting": false
          }
        },
        "gather": {
          "logged": 1617233345614
        }
      }
    },
    {
      "cell_type": "code",
      "source": [
        "model = Sequential()\r\n",
        "\r\n",
        "model.add(Conv2D(32, kernel_size=3, activation='relu', input_shape=(224,224,3)))\r\n",
        "model.add(Conv2D(64, kernel_size=3, activation='relu'))\r\n",
        "model.add(MaxPooling2D(pool_size=2))\r\n",
        "model.add(Dropout(0.25))\r\n",
        "\r\n",
        "model.add(Conv2D(64, kernel_size=3, activation='relu'))\r\n",
        "model.add(MaxPooling2D(pool_size=2))\r\n",
        "model.add(Dropout(0.25))\r\n",
        "\r\n",
        "model.add(Conv2D(128, kernel_size=3, activation='relu'))\r\n",
        "model.add(MaxPooling2D(pool_size=2))\r\n",
        "model.add(Dropout(0.25))\r\n",
        "\r\n",
        "model.add(Flatten())\r\n",
        "model.add(Dense(64, activation='relu'))\r\n",
        "model.add(Dropout(0.5))\r\n",
        "model.add(Dense(1, activation='sigmoid'))\r\n",
        "\r\n",
        "model.compile(loss=keras.losses.binary_crossentropy, optimizer='adam', metrics=['accuracy'])"
      ],
      "outputs": [],
      "execution_count": 2,
      "metadata": {
        "collapsed": true,
        "jupyter": {
          "source_hidden": false,
          "outputs_hidden": false
        },
        "nteract": {
          "transient": {
            "deleting": false
          }
        },
        "gather": {
          "logged": 1617233380706
        }
      }
    },
    {
      "cell_type": "code",
      "source": [
        "output_id = int(time.time())\r\n",
        "os.mkdir(f'./model_training/{output_id}')\r\n",
        "output_file_name = f'./model_training/{output_id}/output.txt'\r\n",
        "output_file = open(output_file_name, 'w+')\r\n",
        "orig_stdout = sys.stdout\r\n",
        "sys.stdout = output_file"
      ],
      "outputs": [],
      "execution_count": 3,
      "metadata": {
        "collapsed": true,
        "jupyter": {
          "source_hidden": false,
          "outputs_hidden": false
        },
        "nteract": {
          "transient": {
            "deleting": false
          }
        },
        "gather": {
          "logged": 1617233381137
        }
      }
    },
    {
      "cell_type": "code",
      "source": [
        "model.summary()"
      ],
      "outputs": [],
      "execution_count": 4,
      "metadata": {
        "collapsed": true,
        "jupyter": {
          "source_hidden": false,
          "outputs_hidden": false
        },
        "nteract": {
          "transient": {
            "deleting": false
          }
        },
        "gather": {
          "logged": 1617233381335
        }
      }
    },
    {
      "cell_type": "code",
      "source": [
        "train_datagen = image.ImageDataGenerator(\r\n",
        "    rescale = 1./255,\r\n",
        "    shear_range = 0.2,\r\n",
        "    zoom_range = 0.2,\r\n",
        "    horizontal_flip = True,\r\n",
        ")\r\n",
        "\r\n",
        "test_datagen = image.ImageDataGenerator(rescale = 1./255)"
      ],
      "outputs": [],
      "execution_count": 5,
      "metadata": {
        "collapsed": true,
        "jupyter": {
          "source_hidden": false,
          "outputs_hidden": false
        },
        "nteract": {
          "transient": {
            "deleting": false
          }
        },
        "gather": {
          "logged": 1617233381528
        }
      }
    },
    {
      "cell_type": "code",
      "source": [
        "train_generator = train_datagen.flow_from_directory(\r\n",
        "    'train',\r\n",
        "    target_size = (224,224),\r\n",
        "    batch_size = 32,\r\n",
        "    class_mode = 'binary'\r\n",
        ")\r\n",
        "\r\n",
        "validation_generator = test_datagen.flow_from_directory(\r\n",
        "    'test',\r\n",
        "    target_size = (224,224),\r\n",
        "    batch_size = 32,\r\n",
        "    class_mode = 'binary'\r\n",
        ")"
      ],
      "outputs": [],
      "execution_count": 6,
      "metadata": {
        "collapsed": true,
        "jupyter": {
          "source_hidden": false,
          "outputs_hidden": false
        },
        "nteract": {
          "transient": {
            "deleting": false
          }
        },
        "gather": {
          "logged": 1617233381910
        }
      }
    },
    {
      "cell_type": "code",
      "source": [
        "hist = model.fit_generator(\r\n",
        "    train_generator,\r\n",
        "    steps_per_epoch = 8,\r\n",
        "    epochs = 100,\r\n",
        "    validation_data = validation_generator,\r\n",
        "    validation_steps = 2,\r\n",
        ")"
      ],
      "outputs": [],
      "execution_count": 7,
      "metadata": {
        "collapsed": true,
        "jupyter": {
          "source_hidden": false,
          "outputs_hidden": false
        },
        "nteract": {
          "transient": {
            "deleting": false
          }
        },
        "gather": {
          "logged": 1617241715526
        }
      }
    },
    {
      "cell_type": "code",
      "source": [
        "sys.stdout = orig_stdout\r\n",
        "output_file.close()"
      ],
      "outputs": [],
      "execution_count": 8,
      "metadata": {
        "collapsed": true,
        "jupyter": {
          "source_hidden": false,
          "outputs_hidden": false
        },
        "nteract": {
          "transient": {
            "deleting": false
          }
        },
        "gather": {
          "logged": 1617241716116
        }
      }
    },
    {
      "cell_type": "code",
      "source": [
        "loss_png_file = open(f'./model_training/{output_id}/loss.png', 'w')\r\n",
        "sys.stdout = loss_png_file"
      ],
      "outputs": [],
      "execution_count": 9,
      "metadata": {
        "collapsed": true,
        "jupyter": {
          "source_hidden": false,
          "outputs_hidden": false
        },
        "nteract": {
          "transient": {
            "deleting": false
          }
        },
        "gather": {
          "logged": 1617241716482
        }
      }
    },
    {
      "cell_type": "code",
      "source": [
        "train_loss = hist.history['loss']\r\n",
        "val_loss = hist.history['val_loss']\r\n",
        "epochs = range(1, len(train_loss) + 1)\r\n",
        "plt.plot(epochs, train_loss, 'y', label='Training loss')\r\n",
        "plt.plot(epochs, val_loss, 'r', label='Validation loss')\r\n",
        "plt.title('Training and validation loss')\r\n",
        "plt.xlabel('Epochs')\r\n",
        "plt.ylabel('Loss')\r\n",
        "plt.legend()\r\n",
        "plt.savefig(sys.stdout.buffer)"
      ],
      "outputs": [
        {
          "output_type": "display_data",
          "data": {
            "text/plain": "<Figure size 432x288 with 1 Axes>",
            "image/png": "[encoded data removed]"
          },
          "metadata": {
            "needs_background": "light"
          }
        }
      ],
      "execution_count": 10,
      "metadata": {
        "collapsed": true,
        "jupyter": {
          "source_hidden": false,
          "outputs_hidden": false
        },
        "nteract": {
          "transient": {
            "deleting": false
          }
        },
        "gather": {
          "logged": 1617241716899
        }
      }
    },
    {
      "cell_type": "code",
      "source": [
        "loss_png_file.close()\r\n",
        "sys.stdout = orig_stdout"
      ],
      "outputs": [],
      "execution_count": 11,
      "metadata": {
        "collapsed": true,
        "jupyter": {
          "source_hidden": false,
          "outputs_hidden": false
        },
        "nteract": {
          "transient": {
            "deleting": false
          }
        },
        "gather": {
          "logged": 1617241717136
        }
      }
    },
    {
      "cell_type": "code",
      "source": [
        "acc_png_file = open(f'./model_training/{output_id}/accuracy.png', 'w')\r\n",
        "sys.stdout = acc_png_file"
      ],
      "outputs": [],
      "execution_count": 12,
      "metadata": {
        "collapsed": true,
        "jupyter": {
          "source_hidden": false,
          "outputs_hidden": false
        },
        "nteract": {
          "transient": {
            "deleting": false
          }
        },
        "gather": {
          "logged": 1617241717331
        }
      }
    },
    {
      "cell_type": "code",
      "source": [
        "train_acc = hist.history['accuracy']\r\n",
        "val_acc = hist.history['val_accuracy']\r\n",
        "epochs = range(1, len(train_acc) + 1)\r\n",
        "plt.plot(epochs, train_acc, 'blue', label='Training accuracy')\r\n",
        "plt.plot(epochs, val_acc, 'green', label='Validation accuracy')\r\n",
        "plt.title('Training and validation accuracy')\r\n",
        "plt.xlabel('Epochs')\r\n",
        "plt.ylabel('Accuracy')\r\n",
        "plt.legend()\r\n",
        "plt.savefig(sys.stdout.buffer)\r\n"
      ],
      "outputs": [
        {
          "output_type": "display_data",
          "data": {
            "text/plain": "<Figure size 432x288 with 1 Axes>",
            "image/png": "[encoded data removed]"
          },
          "metadata": {
            "needs_background": "light"
          }
        }
      ],
      "execution_count": 13,
      "metadata": {
        "collapsed": true,
        "jupyter": {
          "source_hidden": false,
          "outputs_hidden": false
        },
        "nteract": {
          "transient": {
            "deleting": false
          }
        },
        "gather": {
          "logged": 1617241717554
        }
      }
    },
    {
      "cell_type": "code",
      "source": [
        "acc_png_file.close()\r\n",
        "sys.stdout = orig_stdout"
      ],
      "outputs": [],
      "execution_count": 14,
      "metadata": {
        "collapsed": true,
        "jupyter": {
          "source_hidden": false,
          "outputs_hidden": false
        },
        "nteract": {
          "transient": {
            "deleting": false
          }
        },
        "gather": {
          "logged": 1617241717779
        }
      }
    }
  ],
  "metadata": {
    "kernelspec": {
      "name": "python3-azureml",
      "language": "python",
      "display_name": "Python 3.6 - AzureML"
    },
    "language_info": {
      "name": "python",
      "version": "3.6.9",
      "mimetype": "text/x-python",
      "codemirror_mode": {
        "name": "ipython",
        "version": 3
      },
      "pygments_lexer": "ipython3",
      "nbconvert_exporter": "python",
      "file_extension": ".py"
    },
    "kernel_info": {
      "name": "python3-azureml"
    },
    "microsoft": {
      "host": {
        "AzureML": {
          "notebookHasBeenCompleted": true
        }
      }
    },
    "nteract": {
      "version": "nteract-front-end@1.0.0"
    }
  },
  "nbformat": 4,
  "nbformat_minor": 2
}