{
  "cells": [
    {
      "cell_type": "code",
      "source": [
        "import numpy as np\r\n",
        "import tensorflow as tf\r\n",
        "from tensorflow import keras\r\n",
        "from keras.layers import *\r\n",
        "from keras.models import *\r\n",
        "from keras.preprocessing import image\r\n",
        "from keras.callbacks import EarlyStopping, ReduceLROnPlateau\r\n",
        "from sklearn.utils.class_weight import compute_class_weight\r\n",
        "import matplotlib.pyplot as plt\r\n",
        "import sys\r\n",
        "import os\r\n",
        "import time\r\n"
      ],
      "outputs": [],
      "execution_count": 8,
      "metadata": {
        "collapsed": true,
        "jupyter": {
          "source_hidden": false,
          "outputs_hidden": false
        },
        "nteract": {
          "transient": {
            "deleting": false
          }
        },
        "gather": {
          "logged": 1617410495699
        }
      }
    },
    {
      "cell_type": "code",
      "source": [
        "batch_size = 16\r\n",
        "img_height = 500\r\n",
        "img_width = 500"
      ],
      "outputs": [],
      "execution_count": 2,
      "metadata": {
        "collapsed": true,
        "jupyter": {
          "source_hidden": false,
          "outputs_hidden": false
        },
        "nteract": {
          "transient": {
            "deleting": false
          }
        },
        "gather": {
          "logged": 1617409980394
        }
      }
    },
    {
      "cell_type": "code",
      "source": [
        "model = Sequential()\r\n",
        "\r\n",
        "model.add(Conv2D(32, kernel_size=(3,3), activation='relu', input_shape=(img_width,img_height,1)))\r\n",
        "model.add(MaxPooling2D(pool_size=(2,2)))\r\n",
        "\r\n",
        "model.add(Conv2D(32, kernel_size=(3,3), activation='relu', input_shape=(img_width,img_height,1)))\r\n",
        "model.add(MaxPooling2D(pool_size=(2,2)))\r\n",
        "\r\n",
        "model.add(Conv2D(32, kernel_size=(3,3), activation='relu', input_shape=(img_width,img_height,1)))\r\n",
        "model.add(MaxPooling2D(pool_size=(2,2)))\r\n",
        "\r\n",
        "model.add(Conv2D(64, kernel_size=(3,3), activation='relu', input_shape=(img_width,img_height,1)))\r\n",
        "model.add(MaxPooling2D(pool_size=(2,2)))\r\n",
        "\r\n",
        "model.add(Conv2D(64, kernel_size=(3,3), activation='relu', input_shape=(img_width,img_height,1)))\r\n",
        "model.add(MaxPooling2D(pool_size=(2,2)))\r\n",
        "\r\n",
        "model.add(Flatten())\r\n",
        "\r\n",
        "model.add(Dense(activation='relu', units=128))\r\n",
        "model.add(Dense(activation='relu', units=64))\r\n",
        "model.add(Dense(activation='sigmoid', units=1))\r\n",
        "\r\n",
        "model.compile(loss='binary_crossentropy', optimizer='adam', metrics=['accuracy'])"
      ],
      "outputs": [],
      "execution_count": 3,
      "metadata": {
        "collapsed": true,
        "jupyter": {
          "source_hidden": false,
          "outputs_hidden": false
        },
        "nteract": {
          "transient": {
            "deleting": false
          }
        },
        "gather": {
          "logged": 1617409983520
        }
      }
    },
    {
      "cell_type": "code",
      "source": [
        "output_id = int(time.time())\r\n",
        "os.mkdir(f'./model_training/{output_id}')\r\n",
        "output_file_name = f'./model_training/{output_id}/output.txt'\r\n",
        "output_file = open(output_file_name, 'w+')\r\n",
        "orig_stdout = sys.stdout\r\n",
        "sys.stdout = output_file"
      ],
      "outputs": [],
      "execution_count": 4,
      "metadata": {
        "collapsed": true,
        "jupyter": {
          "source_hidden": false,
          "outputs_hidden": false
        },
        "nteract": {
          "transient": {
            "deleting": false
          }
        },
        "gather": {
          "logged": 1617409988130
        }
      }
    },
    {
      "cell_type": "code",
      "source": [
        "model.summary()"
      ],
      "outputs": [],
      "execution_count": 5,
      "metadata": {
        "collapsed": true,
        "jupyter": {
          "source_hidden": false,
          "outputs_hidden": false
        },
        "nteract": {
          "transient": {
            "deleting": false
          }
        },
        "gather": {
          "logged": 1617409991414
        }
      }
    },
    {
      "cell_type": "code",
      "source": [
        "train_datagen = image.ImageDataGenerator(\r\n",
        "    rescale=1./255,\r\n",
        "    shear_range=0.2,\r\n",
        "    zoom_range=0.2,\r\n",
        "    horizontal_flip=True)\r\n",
        "\r\n",
        "test_datagen = image.ImageDataGenerator(rescale=1./255)"
      ],
      "outputs": [],
      "execution_count": 9,
      "metadata": {
        "collapsed": true,
        "jupyter": {
          "source_hidden": false,
          "outputs_hidden": false
        },
        "nteract": {
          "transient": {
            "deleting": false
          }
        },
        "gather": {
          "logged": 1617410529530
        }
      }
    },
    {
      "cell_type": "code",
      "source": [
        "train_generator = train_datagen.flow_from_directory(\r\n",
        "    'train',\r\n",
        "    target_size=(img_height,img_width),\r\n",
        "    color_mode='grayscale',\r\n",
        "    class_mode='binary',\r\n",
        "    batch_size=batch_size)\r\n",
        "\r\n",
        "validation_generator = test_datagen.flow_from_directory(\r\n",
        "    'test',\r\n",
        "    target_size=(img_height,img_width),\r\n",
        "    color_mode='grayscale',\r\n",
        "    class_mode='binary',\r\n",
        "    batch_size=batch_size)"
      ],
      "outputs": [],
      "execution_count": 10,
      "metadata": {
        "collapsed": true,
        "jupyter": {
          "source_hidden": false,
          "outputs_hidden": false
        },
        "nteract": {
          "transient": {
            "deleting": false
          }
        },
        "gather": {
          "logged": 1617410532914
        }
      }
    },
    {
      "cell_type": "code",
      "source": [
        "early = EarlyStopping(monitor='val_loss', mode='min', patience=3)\r\n",
        "learning_rate_reduction = ReduceLROnPlateau(monitor='val_loss', patience=2, verbose=1, factor=0.3, min_lr=0.000001)\r\n",
        "callbacks_list = [early, learning_rate_reduction]"
      ],
      "outputs": [],
      "execution_count": 6,
      "metadata": {
        "collapsed": true,
        "jupyter": {
          "source_hidden": false,
          "outputs_hidden": false
        },
        "nteract": {
          "transient": {
            "deleting": false
          }
        },
        "gather": {
          "logged": 1617410315737
        }
      }
    },
    {
      "cell_type": "code",
      "source": [
        "weights = compute_class_weight('balanced', np.unique(train_generator.classes), train_generator.classes)\r\n",
        "cw = dict(zip(np.unique(train_generator.classes), weights))\r\n",
        "print(cw)"
      ],
      "outputs": [],
      "execution_count": 11,
      "metadata": {
        "collapsed": true,
        "jupyter": {
          "source_hidden": false,
          "outputs_hidden": false
        },
        "nteract": {
          "transient": {
            "deleting": false
          }
        },
        "gather": {
          "logged": 1617410537948
        }
      }
    },
    {
      "cell_type": "code",
      "source": [
        "hist = model.fit(\r\n",
        "    train_generator,\r\n",
        "    epochs = 25,\r\n",
        "    class_weight=cw,\r\n",
        "    validation_data=validation_generator)"
      ],
      "outputs": [],
      "execution_count": 12,
      "metadata": {
        "collapsed": true,
        "jupyter": {
          "source_hidden": false,
          "outputs_hidden": false
        },
        "nteract": {
          "transient": {
            "deleting": false
          }
        },
        "gather": {
          "logged": 1617413454735
        }
      }
    },
    {
      "cell_type": "code",
      "source": [
        "sys.stdout = orig_stdout\r\n",
        "output_file.close()"
      ],
      "outputs": [],
      "execution_count": 13,
      "metadata": {
        "collapsed": true,
        "jupyter": {
          "source_hidden": false,
          "outputs_hidden": false
        },
        "nteract": {
          "transient": {
            "deleting": false
          }
        },
        "gather": {
          "logged": 1617413455046
        }
      }
    },
    {
      "cell_type": "code",
      "source": [
        "loss_png_file = open(f'./model_training/{output_id}/loss.png', 'w')\r\n",
        "sys.stdout = loss_png_file"
      ],
      "outputs": [],
      "execution_count": 14,
      "metadata": {
        "collapsed": true,
        "jupyter": {
          "source_hidden": false,
          "outputs_hidden": false
        },
        "nteract": {
          "transient": {
            "deleting": false
          }
        },
        "gather": {
          "logged": 1617413455293
        }
      }
    },
    {
      "cell_type": "code",
      "source": [
        "train_loss = hist.history['loss']\r\n",
        "val_loss = hist.history['val_loss']\r\n",
        "epochs = range(1, len(train_loss) + 1)\r\n",
        "plt.plot(epochs, train_loss, 'y', label='Training loss')\r\n",
        "plt.plot(epochs, val_loss, 'r', label='Validation loss')\r\n",
        "plt.title('Training and validation loss')\r\n",
        "plt.xlabel('Epochs')\r\n",
        "plt.ylabel('Loss')\r\n",
        "plt.legend()\r\n",
        "plt.savefig(sys.stdout.buffer)"
      ],
      "outputs": [
        {
          "output_type": "display_data",
          "data": {
            "text/plain": "<Figure size 432x288 with 1 Axes>",
            "image/png": "[encoded data removed]"
          },
          "metadata": {
            "needs_background": "light"
          }
        }
      ],
      "execution_count": 15,
      "metadata": {
        "collapsed": true,
        "jupyter": {
          "source_hidden": false,
          "outputs_hidden": false
        },
        "nteract": {
          "transient": {
            "deleting": false
          }
        },
        "gather": {
          "logged": 1617413455507
        }
      }
    },
    {
      "cell_type": "code",
      "source": [
        "loss_png_file.close()\r\n",
        "sys.stdout = orig_stdout"
      ],
      "outputs": [],
      "execution_count": 16,
      "metadata": {
        "collapsed": true,
        "jupyter": {
          "source_hidden": false,
          "outputs_hidden": false
        },
        "nteract": {
          "transient": {
            "deleting": false
          }
        },
        "gather": {
          "logged": 1617413455681
        }
      }
    },
    {
      "cell_type": "code",
      "source": [
        "acc_png_file = open(f'./model_training/{output_id}/accuracy.png', 'w')\r\n",
        "sys.stdout = acc_png_file"
      ],
      "outputs": [],
      "execution_count": 17,
      "metadata": {
        "collapsed": true,
        "jupyter": {
          "source_hidden": false,
          "outputs_hidden": false
        },
        "nteract": {
          "transient": {
            "deleting": false
          }
        },
        "gather": {
          "logged": 1617413455842
        }
      }
    },
    {
      "cell_type": "code",
      "source": [
        "train_acc = hist.history['accuracy']\r\n",
        "val_acc = hist.history['val_accuracy']\r\n",
        "epochs = range(1, len(train_acc) + 1)\r\n",
        "plt.plot(epochs, train_acc, 'blue', label='Training accuracy')\r\n",
        "plt.plot(epochs, val_acc, 'green', label='Validation accuracy')\r\n",
        "plt.title('Training and validation accuracy')\r\n",
        "plt.xlabel('Epochs')\r\n",
        "plt.ylabel('Accuracy')\r\n",
        "plt.legend()\r\n",
        "plt.savefig(sys.stdout.buffer)\r\n"
      ],
      "outputs": [
        {
          "output_type": "display_data",
          "data": {
            "text/plain": "<Figure size 432x288 with 1 Axes>",
            "image/png": "[encoded data removed]"
          },
          "metadata": {
            "needs_background": "light"
          }
        }
      ],
      "execution_count": 18,
      "metadata": {
        "collapsed": true,
        "jupyter": {
          "source_hidden": false,
          "outputs_hidden": false
        },
        "nteract": {
          "transient": {
            "deleting": false
          }
        },
        "gather": {
          "logged": 1617413455933
        }
      }
    },
    {
      "cell_type": "code",
      "source": [
        "acc_png_file.close()\r\n",
        "sys.stdout = orig_stdout"
      ],
      "outputs": [],
      "execution_count": 19,
      "metadata": {
        "collapsed": true,
        "jupyter": {
          "source_hidden": false,
          "outputs_hidden": false
        },
        "nteract": {
          "transient": {
            "deleting": false
          }
        },
        "gather": {
          "logged": 1617413456105
        }
      }
    },
    {
      "cell_type": "code",
      "source": [
        "model.save('covid_cnn.h5py')"
      ],
      "outputs": [],
      "execution_count": null,
      "metadata": {
        "collapsed": true,
        "jupyter": {
          "source_hidden": false,
          "outputs_hidden": false
        },
        "nteract": {
          "transient": {
            "deleting": false
          }
        },
        "gather": {
          "logged": 1617242382469
        }
      }
    }
  ],
  "metadata": {
    "kernelspec": {
      "name": "python3-azureml",
      "language": "python",
      "display_name": "Python 3.6 - AzureML"
    },
    "language_info": {
      "name": "python",
      "version": "3.6.9",
      "mimetype": "text/x-python",
      "codemirror_mode": {
        "name": "ipython",
        "version": 3
      },
      "pygments_lexer": "ipython3",
      "nbconvert_exporter": "python",
      "file_extension": ".py"
    },
    "kernel_info": {
      "name": "python3-azureml"
    },
    "microsoft": {
      "host": {
        "AzureML": {
          "notebookHasBeenCompleted": true
        }
      }
    },
    "nteract": {
      "version": "nteract-front-end@1.0.0"
    }
  },
  "nbformat": 4,
  "nbformat_minor": 2
}