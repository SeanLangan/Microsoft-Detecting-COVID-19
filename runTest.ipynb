{
  "cells": [
    {
      "cell_type": "code",
      "source": [
        "import numpy as np\r\n",
        "from keras.models import load_model\r\n",
        "from glob import glob\r\n",
        "from keras.preprocessing.image import load_img, img_to_array, ImageDataGenerator\r\n",
        "#from keras.applications.vgg16 import preprocess_input\r\n",
        "from keras.applications.resnet50 import preprocess_input, decode_predictions\r\n",
        "from PIL import Image\r\n",
        "from keras.preprocessing import image\r\n",
        "import matplotlib.image as npimg\r\n",
        "import matplotlib.pyplot as plt\r\n"
      ],
      "outputs": [],
      "execution_count": 48,
      "metadata": {
        "gather": {
          "logged": 1618668640956
        }
      }
    },
    {
      "cell_type": "code",
      "source": [
        "model = load_model('cov_v_nor.h5py')\r\n"
      ],
      "outputs": [],
      "execution_count": 19,
      "metadata": {
        "collapsed": true,
        "jupyter": {
          "source_hidden": false,
          "outputs_hidden": false
        },
        "nteract": {
          "transient": {
            "deleting": false
          }
        },
        "gather": {
          "logged": 1618667294394
        }
      }
    },
    {
      "cell_type": "code",
      "source": [
        "my_image = load_img('api_call_image/x-ray-1261.png', target_size=(224, 224))\r\n",
        "my_image = my_image.convert('L')\r\n",
        "my_image = image.img_to_array(my_image)\r\n",
        "my_image/=255\r\n",
        "my_image = np.expand_dims(my_image, axis=0) # image shape is (1, 12, 12, 3)\r\n",
        "print(my_image.shape)\r\n",
        "\r\n",
        "prediction = model.predict(my_image)[0][0]#\r\n",
        "\r\n",
        "confidence = abs(.5-prediction)*2\r\n",
        "if(prediction>.5):\r\n",
        "    answer = \"positive\"\r\n",
        "else:  \r\n",
        "    answer = \"negative\"\r\n",
        "\r\n",
        "print(\"prediction is \", prediction)\r\n",
        "print(\"confidence is \", confidence)\r\n",
        "print(\"diagnosis is \", answer)"
      ],
      "outputs": [
        {
          "output_type": "stream",
          "name": "stdout",
          "text": [
            "(1, 224, 224, 1)\n",
            "prediction is  0.0011189374\n",
            "confidence is  0.9977621252182871\n",
            "diagnosis is  negative\n"
          ]
        }
      ],
      "execution_count": 68,
      "metadata": {
        "collapsed": true,
        "jupyter": {
          "source_hidden": false,
          "outputs_hidden": false
        },
        "nteract": {
          "transient": {
            "deleting": false
          }
        },
        "gather": {
          "logged": 1618669541151
        }
      }
    }
  ],
  "metadata": {
    "kernelspec": {
      "name": "python3-azureml",
      "language": "python",
      "display_name": "Python 3.6 - AzureML"
    },
    "language_info": {
      "name": "python",
      "version": "3.6.9",
      "mimetype": "text/x-python",
      "codemirror_mode": {
        "name": "ipython",
        "version": 3
      },
      "pygments_lexer": "ipython3",
      "nbconvert_exporter": "python",
      "file_extension": ".py"
    },
    "kernel_info": {
      "name": "python3-azureml"
    },
    "microsoft": {
      "host": {
        "AzureML": {
          "notebookHasBeenCompleted": true
        }
      }
    },
    "nteract": {
      "version": "nteract-front-end@1.0.0"
    }
  },
  "nbformat": 4,
  "nbformat_minor": 2
}